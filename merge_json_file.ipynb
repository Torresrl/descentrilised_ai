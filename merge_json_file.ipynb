{
 "cells": [
  {
   "cell_type": "code",
   "execution_count": 2,
   "metadata": {},
   "outputs": [],
   "source": [
    "import json\n",
    "\n"
   ]
  },
  {
   "cell_type": "code",
   "execution_count": 3,
   "metadata": {},
   "outputs": [
    {
     "data": {
      "text/plain": [
       "'      \\ndef save_model(model, name, model_info, testing=False):\\n\\n    \\n    model_data.update(model_info)\\n    file_reader.close()\\n\\n    with open(json_file_name, \"w\") as file_write:\\n    # write json data into file\\n        json.dump(model_da\\n        \\n'"
      ]
     },
     "execution_count": 3,
     "metadata": {},
     "output_type": "execute_result"
    }
   ],
   "source": [
    "'''\n",
    "link_one and link two is the path to the files that will be merged\n",
    "save_link is the path to the file the stata shpuld be stored in. \n",
    "'''\n",
    "\n",
    "def merge_models(link_one, link_two, save_link): \n",
    "    \n",
    "    with open(link_one, 'r') as file_reader_one:\n",
    "        model_data_one = json.load(file_reader_one)\n",
    "    \n",
    "    with open(link_two, 'r') as file_reader_two:\n",
    "        model_data_two = json.load(file_reader_two)\n",
    "\n",
    "    model_data_one.update(model_data_two)\n",
    "    \n",
    "    file_reader_one.close()\n",
    "    file_reader_two.close()\n",
    "    \n",
    "    with open(save_link, 'w') as file_writer:\n",
    "        json.dump(model_data_one, file_writer)\n",
    "    \n",
    "    file_writer.close()\n",
    "        \n",
    "link_one = 'model_info.json'\n",
    "link_two = 'model_info_new.json'\n",
    "save_file ='model_info.json'\n",
    "    \n",
    "merge_models(link_one, link_two, save_file)\n",
    "    \n",
    "'''      \n",
    "def save_model(model, name, model_info, testing=False):\n",
    "\n",
    "    \n",
    "    model_data.update(model_info)\n",
    "    file_reader.close()\n",
    "\n",
    "    with open(json_file_name, \"w\") as file_write:\n",
    "    # write json data into file\n",
    "        json.dump(model_da\n",
    "        \n",
    "'''"
   ]
  },
  {
   "cell_type": "code",
   "execution_count": null,
   "metadata": {},
   "outputs": [],
   "source": []
  }
 ],
 "metadata": {
  "kernelspec": {
   "display_name": "Python 3",
   "language": "python",
   "name": "python3"
  },
  "language_info": {
   "codemirror_mode": {
    "name": "ipython",
    "version": 3
   },
   "file_extension": ".py",
   "mimetype": "text/x-python",
   "name": "python",
   "nbconvert_exporter": "python",
   "pygments_lexer": "ipython3",
   "version": "3.7.6"
  }
 },
 "nbformat": 4,
 "nbformat_minor": 4
}
