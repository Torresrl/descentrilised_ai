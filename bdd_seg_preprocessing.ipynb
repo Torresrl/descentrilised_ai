{
 "cells": [
  {
   "cell_type": "code",
   "execution_count": 28,
   "metadata": {},
   "outputs": [],
   "source": [
    "import cv2\n",
    "import numpy as np\n",
    "import pandas as pd\n",
    "import os\n",
    "import matplotlib.pyplot as plt\n",
    "import matplotlib.image as mpimg\n",
    "import sys\n",
    "import scipy.misc"
   ]
  },
  {
   "cell_type": "code",
   "execution_count": 29,
   "metadata": {},
   "outputs": [],
   "source": [
    "url_labels_train = 'BDD_data/labels/bdd100k_labels_images_train.json'\n",
    "url_images_train = 'BDD_data/bdd100k_images/bdd100k/images/100k/train/'\n",
    "url_drivable_train = 'BDD_data/drivable_maps/color_labels/train/'\n",
    "\n",
    "url_labels_val = 'BDD_data/labels/bdd100k_labels_images_val.json'\n",
    "url_images_val = 'BDD_data/bdd100k_images/bdd100k/images/100k/val/'\n",
    "url_drivable_val = 'BDD_data/drivable_maps/color_labels/val/'\n",
    "\n",
    "\n",
    "\n",
    "\n",
    "drivable_ending = '_drivable_color.png'\n",
    "\n",
    "IMG_HEIGHT = 120 #640x480, 320x240, 160x120\n",
    "IMG_WIDTH = 160\n",
    "NUM_SEG = 2"
   ]
  },
  {
   "cell_type": "code",
   "execution_count": 30,
   "metadata": {},
   "outputs": [],
   "source": [
    "labels_train = pd.read_json(url_labels_train, orient='columns')\n",
    "labels_val = pd.read_json(url_labels_val, orient='columns')"
   ]
  },
  {
   "cell_type": "code",
   "execution_count": 31,
   "metadata": {},
   "outputs": [],
   "source": [
    "def img_process(img):\n",
    "    img = cv2.resize(img, (IMG_WIDTH,IMG_HEIGHT), interpolation=cv2.INTER_LINEAR) #640x480, 320x240\n",
    "    img = cv2.normalize(img, None, 0, 1, norm_type=cv2.NORM_MINMAX, dtype=cv2.CV_8UC3)\n",
    "    \n",
    "    return img\n",
    "\n",
    "def rgb_to_rb(img):\n",
    "    r, g, b = cv2.split(img) \n",
    "    rb_img = np.zeros((IMG_HEIGHT, IMG_WIDTH, 2))\n",
    "    rb_img[..., 0] = r\n",
    "    rb_img[..., 1] = b\n",
    "    return rb_img\n",
    "\n"
   ]
  },
  {
   "cell_type": "code",
   "execution_count": 35,
   "metadata": {},
   "outputs": [
    {
     "name": "stdout",
     "output_type": "stream",
     "text": [
      "Finised with 0 of 10000\n",
      "Finised with 1000 of 10000\n",
      "Finised with 2000 of 10000\n",
      "Finised with 3000 of 10000\n",
      "Finised with 4000 of 10000\n",
      "Finised with 5000 of 10000\n",
      "Finised with 6000 of 10000\n",
      "Finised with 7000 of 10000\n",
      "Finised with 8000 of 10000\n",
      "Finised with 9000 of 10000\n",
      "0\n"
     ]
    }
   ],
   "source": [
    "train_img_ids = labels_train['name'].tolist()\n",
    "val_img_ids = labels_val['name'].tolist()\n",
    "\n",
    "\n",
    "\n",
    "\n",
    "def save_img(img_ids, url_img, url_dri, save_img_loc, save_dri_loc):\n",
    "    \n",
    "    for i in range(len(img_ids)): #len(train_img_ids)\n",
    "        sample_img_url = url_img + img_ids[i]\n",
    "\n",
    "        drivable_id =  img_ids[i][:-4] + drivable_ending\n",
    "\n",
    "        sample_drivable_url = url_dri + drivable_id\n",
    "\n",
    "        img = img_process(mpimg.imread(sample_img_url))\n",
    "        #dri_area = img_process(mpimg.imread(sample_drivable_url))\n",
    "\n",
    "        mpimg.imsave(save_img_loc + img_ids[i], img)\n",
    "        #mpimg.imsave(save_dri_loc + drivable_id, dri_area)\n",
    "        \n",
    "        if i % 1000 == 0:\n",
    "            print(f'Finised with {i} of {len(img_ids)}')\n",
    "    \n",
    "    \n",
    "save_img_loc_val = 'BDD_data/drivable_maps_preprocced/120x160/image_val/'\n",
    "save_dri_loc_val = 'BDD_data/drivable_maps_preprocced/120x160/drivable_val/'\n",
    "\n",
    "save_img(val_img_ids, url_images_val, url_drivable_val, save_img_loc_val, save_dri_loc_val)"
   ]
  },
  {
   "cell_type": "code",
   "execution_count": null,
   "metadata": {},
   "outputs": [],
   "source": []
  }
 ],
 "metadata": {
  "kernelspec": {
   "display_name": "Python 3",
   "language": "python",
   "name": "python3"
  },
  "language_info": {
   "codemirror_mode": {
    "name": "ipython",
    "version": 3
   },
   "file_extension": ".py",
   "mimetype": "text/x-python",
   "name": "python",
   "nbconvert_exporter": "python",
   "pygments_lexer": "ipython3",
   "version": "3.7.6"
  }
 },
 "nbformat": 4,
 "nbformat_minor": 4
}
