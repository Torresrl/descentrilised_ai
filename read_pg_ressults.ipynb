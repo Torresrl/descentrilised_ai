{
 "cells": [
  {
   "cell_type": "code",
   "execution_count": 138,
   "metadata": {},
   "outputs": [],
   "source": [
    "import glob\n",
    "import json\n",
    "import numpy as np\n",
    "import matplotlib.pyplot as plt"
   ]
  },
  {
   "cell_type": "code",
   "execution_count": 141,
   "metadata": {},
   "outputs": [
    {
     "name": "stdout",
     "output_type": "stream",
     "text": [
      "./pg_ressults/policy_gradient_Adam_0.001_0.8358189465636665.json\n",
      "./pg_ressults/policy_gradient_Adam_0.0001_0.6177143132365915.json\n",
      "./pg_ressults/policy_gradient_Adam_1e-06_0.6451817808033959.json\n",
      "./pg_ressults/policy_gradient_Adam_0.01_0.6283296396686722.json\n",
      "./pg_ressults/policy_gradient_Adam_0.0001_0.5894498228668047.json\n",
      "./pg_ressults/policy_gradient_SGD_0.01_0.5945580823833224.json\n",
      "./pg_ressults/policy_gradient_Adam_0.0001_0.8960957591599381.json\n",
      "./pg_ressults/policy_gradient_SGD_0.001_0.6210458973742797.json\n",
      "./pg_ressults/policy_gradient_SGD_1e-05_0.6428755474970488.json\n",
      "./pg_ressults/policy_gradient_Adam_0.01_0.5772772232305828.json\n",
      "./pg_ressults/policy_gradient_Adam_0.0001_0.5219445085843761.json\n",
      "./pg_ressults/policy_gradient_SGD_0.001_0.5905848565163345.json\n",
      "./pg_ressults/policy_gradient_SGD_0.01_0.6052335928835677.json\n",
      "number of models: 13\n"
     ]
    }
   ],
   "source": [
    "file_name = glob.glob('./pg_ressults/*')\n",
    "all_ressults = []\n",
    "for i in file_name:\n",
    "    print(i)\n",
    "    all_ressults.append(i)\n",
    "\n",
    "print(f'number of models: {len(all_ressults)}')"
   ]
  },
  {
   "cell_type": "code",
   "execution_count": 140,
   "metadata": {},
   "outputs": [
    {
     "ename": "IndexError",
     "evalue": "list index out of range",
     "output_type": "error",
     "traceback": [
      "\u001b[0;31m---------------------------------------------------------------------------\u001b[0m",
      "\u001b[0;31mIndexError\u001b[0m                                Traceback (most recent call last)",
      "\u001b[0;32m<ipython-input-140-59e452600b7a>\u001b[0m in \u001b[0;36m<module>\u001b[0;34m\u001b[0m\n\u001b[0;32m----> 1\u001b[0;31m \u001b[0mfile_path\u001b[0m \u001b[0;34m=\u001b[0m \u001b[0mall_ressults\u001b[0m\u001b[0;34m[\u001b[0m\u001b[0;36m13\u001b[0m\u001b[0;34m]\u001b[0m\u001b[0;34m\u001b[0m\u001b[0;34m\u001b[0m\u001b[0m\n\u001b[0m\u001b[1;32m      2\u001b[0m '''\n\u001b[1;32m      3\u001b[0m \u001b[0mnotes\u001b[0m\u001b[0;34m\u001b[0m\u001b[0;34m\u001b[0m\u001b[0m\n\u001b[1;32m      4\u001b[0m \u001b[0;34m\u001b[0m\u001b[0m\n\u001b[1;32m      5\u001b[0m \u001b[0;36m2\u001b[0m\u001b[0;34m:\u001b[0m \u001b[0mmase\u001b[0m \u001b[0msome\u001b[0m \u001b[0mchange\u001b[0m \u001b[0;32min\u001b[0m \u001b[0mindex\u001b[0m\u001b[0;34m,\u001b[0m \u001b[0mstore\u001b[0m \u001b[0mutslag\u001b[0m \u001b[0mpå\u001b[0m \u001b[0mvalue\u001b[0m \u001b[0mog\u001b[0m \u001b[0mpolicy\u001b[0m\u001b[0;34m.\u001b[0m \u001b[0mPolicy\u001b[0m \u001b[0mlr\u001b[0m\u001b[0;34m:\u001b[0m \u001b[0;36m1e-06\u001b[0m\u001b[0;34m,\u001b[0m \u001b[0mPolicy\u001b[0m \u001b[0mclip\u001b[0m\u001b[0;34m:\u001b[0m \u001b[0;36m3\u001b[0m\u001b[0;34m,\u001b[0m \u001b[0moptimizer\u001b[0m\u001b[0;34m:\u001b[0m \u001b[0mAdam\u001b[0m \u001b[0mValue\u001b[0m \u001b[0mlr\u001b[0m\u001b[0;34m:\u001b[0m \u001b[0;36m0.001\u001b[0m\u001b[0;34m,\u001b[0m \u001b[0mValue\u001b[0m \u001b[0mclip\u001b[0m\u001b[0;34m:\u001b[0m \u001b[0mvalue_clip\u001b[0m\u001b[0;34m\u001b[0m\u001b[0;34m\u001b[0m\u001b[0m\n",
      "\u001b[0;31mIndexError\u001b[0m: list index out of range"
     ]
    }
   ],
   "source": [
    "file_path = all_ressults[12]\n",
    "'''\n",
    "notes\n",
    "\n",
    "2: mase some change in index, store utslag på value og policy. Policy lr: 1e-06, Policy clip: 3, optimizer: Adam Value lr: 0.001, Value clip: value_clip\n",
    "\n",
    "'''\n",
    "\n",
    "def scatter_model_used(model_info, num_models, num_trials):\n",
    "    counter = 0\n",
    "    used_list = []\n",
    "    \n",
    "    for _ in range(num_models):\n",
    "        used_list.append(np.full(num_trials, -10))\n",
    "    \n",
    "    for key, value in model_info.items():\n",
    "\n",
    "        for used in value['used_index']:\n",
    "            used_list[counter][used] = counter\n",
    "\n",
    "        counter += 1\n",
    "        \n",
    "    counter_list = range(num_trials)\n",
    "    \n",
    "    plt.figure(figsize=(16, 10))\n",
    "    plt.tick_params(axis='both', which='major', labelsize=15)\n",
    "    plt.ylim(0, int(round(num_models * 1.05)))\n",
    "    for i in range(num_models):\n",
    "        plt.scatter(counter_list, used_list[i])\n",
    "    plt.show()\n",
    "    \n",
    "def plot_loss(policy_list, title):\n",
    "    plt.figure(figsize=(16, 10))\n",
    "    #plt.ylim(0,1)\n",
    "    plt.xlabel('Step', fontsize=20)\n",
    "    plt.ylabel('Loss', fontsize=20)\n",
    "    #plt.tick_params(axis='both', which='major', labelsize=18)\n",
    "    plt.title(title, fontsize=30)\n",
    "\n",
    "    plt.plot(policy_list,'m' ,linewidth=3, label='Loss')\n",
    "    plt.legend(loc='best', fontsize=15)\n",
    "    plt.show()\n",
    "\n",
    "#Reduce the list so graph get more general and easyer to read\n",
    "def generalize_list(scores, batch_size):\n",
    "    score_batch = []\n",
    "    score_reduced = []\n",
    "    x_akses = []\n",
    "    for i in range(len(scores)):\n",
    "        if i % batch_size == 0 and i != 0:\n",
    "            score_reduced.append(sum(score_batch)/batch_size)\n",
    "            score_batch = []\n",
    "            x_akses.append(i)\n",
    "        score_batch.append(scores[i])\n",
    "    return score_reduced, x_akses\n",
    "    \n",
    "def score_graph(scores, iou_scores, means, model_info, batch_size, list_length, num_models):\n",
    "    plt.figure(figsize=(16, 10))\n",
    "    score_reduced = []\n",
    "\n",
    "\n",
    "    model_score_avg = 0\n",
    "    for key, value in model_info.items():\n",
    "        model_score_avg += value['score']\n",
    "    model_score_avg = model_score_avg / num_models\n",
    "\n",
    "\n",
    "    # x_akses is the same in both instances\n",
    "    iou_scores_reduced, _ = generalize_list(iou_scores, batch_size)\n",
    "    score_reduced, x_akses = generalize_list(scores, batch_size)\n",
    "    mean_reduced, _ = generalize_list(means, batch_size)\n",
    "    \n",
    "    \n",
    "    print(f' Avg score pr model: {model_score_avg}')\n",
    "    \n",
    "    avg = np.array([model_score_avg for i in range(list_length)])\n",
    "    avg_explore = np.array([0.519 for i in range(list_length)]) # 0.5186551321699284\n",
    "    #avg_iou = np.array([0.0185 for i in range(list_length)]) #0.0185 0.13364625770486935\n",
    "    avg_iou = np.array([0.101 for i in range(list_length)]) #0.10119017522614594\n",
    "    \n",
    "    #plt.bar(, y_akses_list)\n",
    "    plt.ylim(0,1)\n",
    "    plt.xlabel('time', fontsize=20)\n",
    "    plt.ylabel('Percentage right', fontsize=20)\n",
    "    #plt.tick_params(axis='both', which='major', labelsize=18)\n",
    "\n",
    "    plt.plot(avg, 'r--', label='Average Lower Bound')\n",
    "    plt.plot(avg_explore, 'm--', label='Average score')\n",
    "    plt.plot(avg_iou, 'y--', label='Average IoU')\n",
    "    plt.plot(x_akses, mean_reduced,'g' ,linewidth=3, label='Mean')\n",
    "    plt.plot(x_akses, score_reduced,'b' ,linewidth=3, label='pixel score')\n",
    "    plt.plot(x_akses, iou_scores_reduced,'c' ,linewidth=3, label='iou score')\n",
    "    plt.legend(loc='best', fontsize=15)\n",
    "    plt.show()"
   ]
  },
  {
   "cell_type": "code",
   "execution_count": null,
   "metadata": {},
   "outputs": [],
   "source": [
    "with open(file_path) as reader:\n",
    "    model_info = json.load(reader)\n",
    "\n"
   ]
  },
  {
   "cell_type": "code",
   "execution_count": null,
   "metadata": {},
   "outputs": [],
   "source": [
    "print('------------------------ MODEL INFO START ------------------------')\n",
    "print(f'Policy lr: {model_info[\"policy_lr\"]}, Policy clip: {model_info[\"policy_clip\"]}, optimizer: {model_info[\"optimizer\"]}')\n",
    "print(f'Value lr: {model_info[\"value_lr\"]}, Value clip: {\"value_clip\"}')\n",
    "print(f'Reward ekspontential: {model_info[\"reward_exponential\"]}, Reward mulitiplikation: {model_info[\"reward_multi\"]}, batch size: {model_info[\"batch_size\"]}, box size: {model_info[\"box_size\"]}, gamma: {model_info[\"gamma\"]}')\n"
   ]
  },
  {
   "cell_type": "code",
   "execution_count": null,
   "metadata": {},
   "outputs": [],
   "source": [
    "plot_loss(model_info['policy_loss'], 'Policy Loss')"
   ]
  },
  {
   "cell_type": "code",
   "execution_count": null,
   "metadata": {},
   "outputs": [],
   "source": [
    "plot_loss(model_info['value_loss'], 'Value Loss')"
   ]
  },
  {
   "cell_type": "code",
   "execution_count": null,
   "metadata": {},
   "outputs": [],
   "source": [
    "plot_loss(model_info['reward_list'], 'Reward')"
   ]
  },
  {
   "cell_type": "code",
   "execution_count": null,
   "metadata": {},
   "outputs": [],
   "source": [
    "scatter_model_used(model_info['model_info'], model_info['num_models'], model_info['num_trials'])"
   ]
  },
  {
   "cell_type": "code",
   "execution_count": null,
   "metadata": {},
   "outputs": [],
   "source": [
    "score_graph(model_info['pixel_scores'], model_info['iou_scores'], model_info['mean_values'], model_info['model_info'], batch_size=model_info['batch_size'], list_length=model_info['num_trials'], num_models=model_info['num_models'])"
   ]
  },
  {
   "cell_type": "code",
   "execution_count": null,
   "metadata": {},
   "outputs": [],
   "source": [
    "for key in model_info.keys():\n",
    "    print(key)"
   ]
  },
  {
   "cell_type": "code",
   "execution_count": null,
   "metadata": {},
   "outputs": [],
   "source": []
  }
 ],
 "metadata": {
  "kernelspec": {
   "display_name": "Python 3",
   "language": "python",
   "name": "python3"
  },
  "language_info": {
   "codemirror_mode": {
    "name": "ipython",
    "version": 3
   },
   "file_extension": ".py",
   "mimetype": "text/x-python",
   "name": "python",
   "nbconvert_exporter": "python",
   "pygments_lexer": "ipython3",
   "version": "3.7.6"
  }
 },
 "nbformat": 4,
 "nbformat_minor": 4
}
