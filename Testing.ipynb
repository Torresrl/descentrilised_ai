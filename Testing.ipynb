{
 "cells": [
  {
   "cell_type": "code",
   "execution_count": 1,
   "metadata": {},
   "outputs": [],
   "source": [
    "import numpy as np"
   ]
  },
  {
   "cell_type": "code",
   "execution_count": 2,
   "metadata": {},
   "outputs": [],
   "source": [
    "test_array = np.zeros((3,3,3), dtype=np.uint8)\n",
    "test_array2 = np.zeros((3,3,3), dtype=np.uint8)\n",
    "test_array[1,2,1] = 1\n",
    "test_array2[2,2,2] = 1\n",
    "test_goal = [0,0,0]\n",
    "print(test_array)"
   ]
  },
  {
   "cell_type": "code",
   "execution_count": 3,
   "metadata": {},
   "outputs": [],
   "source": [
    "mask1 = (test_array == test_goal).all(-1)\n",
    "mask2 = (test_array2 == test_goal).all(-1)"
   ]
  },
  {
   "cell_type": "code",
   "execution_count": 4,
   "metadata": {},
   "outputs": [],
   "source": [
    "print(mask1)"
   ]
  },
  {
   "cell_type": "code",
   "execution_count": 5,
   "metadata": {},
   "outputs": [],
   "source": [
    "print(mask2)"
   ]
  },
  {
   "cell_type": "code",
   "execution_count": 6,
   "metadata": {},
   "outputs": [],
   "source": [
    "maskes = np.zeros((3,3,2), dtype=np.uint8)\n",
    "maskes[:,:, 0] = mask1\n",
    "maskes[:, :, 1] = mask2\n",
    "\n",
    "print(maskes)"
   ]
  },
  {
   "cell_type": "code",
   "execution_count": 7,
   "metadata": {},
   "outputs": [],
   "source": [
    "#mask = (test_array == [0,1,0]).all(-1)"
   ]
  },
  {
   "cell_type": "code",
   "execution_count": 8,
   "metadata": {},
   "outputs": [],
   "source": [
    "#print(mask)"
   ]
  },
  {
   "cell_type": "code",
   "execution_count": 9,
   "metadata": {},
   "outputs": [],
   "source": [
    "#mask = (test_array == [0,0,0]).all(-1)"
   ]
  },
  {
   "cell_type": "code",
   "execution_count": 10,
   "metadata": {},
   "outputs": [
    {
     "name": "stdout",
     "output_type": "stream",
     "text": [
      "[[[1 1]\n",
      "  [1 1]\n",
      "  [1 1]]\n",
      "\n",
      " [[1 1]\n",
      "  [1 1]\n",
      "  [0 1]]\n",
      "\n",
      " [[1 1]\n",
      "  [1 1]\n",
      "  [1 0]]]\n",
      "(3, 3, 2)\n"
     ]
    }
   ],
   "source": [
    "maskes = maskes.astype(np.uint8)\n",
    "print(maskes)\n",
    "print(maskes.shape)"
   ]
  },
  {
   "cell_type": "code",
   "execution_count": 11,
   "metadata": {},
   "outputs": [],
   "source": [
    "labels = np.zeros((3,3,3), dtype=np.uint8)"
   ]
  },
  {
   "cell_type": "code",
   "execution_count": 12,
   "metadata": {},
   "outputs": [
    {
     "name": "stdout",
     "output_type": "stream",
     "text": [
      "\n",
      "Ressults\n",
      "[[[0 0 0]\n",
      "  [0 0 0]\n",
      "  [0 0 0]]\n",
      "\n",
      " [[0 0 0]\n",
      "  [0 0 0]\n",
      "  [0 0 0]]\n",
      "\n",
      " [[0 0 0]\n",
      "  [0 0 0]\n",
      "  [0 0 0]]]\n"
     ]
    }
   ],
   "source": [
    "classes_cc = { #cc = carla cityScape\n",
    "    0: [9, 8, 7],        # None\n",
    "    1: [1, 2, 3],     # Buildings\n",
    "    #2: [190, 153, 70],  # Fences\n",
    "}\n",
    "\n",
    "    \n",
    "for key, value in classes_cc.items():\n",
    "    mask = maskes[:,:, key]\n",
    "    #print(mask)\n",
    "    #print(value)\n",
    "    #print(mask[:,:,None]*value)\n",
    "    label = mask[... ,None] * value\n",
    "\n",
    "#to_array[:,:,:] = mask * classes_cc[2]\n",
    "print()\n",
    "print('Ressults')  \n",
    "print(labels)"
   ]
  },
  {
   "cell_type": "code",
   "execution_count": 13,
   "metadata": {},
   "outputs": [
    {
     "name": "stdout",
     "output_type": "stream",
     "text": [
      "[[0 0 0]\n",
      " [0 0 0]\n",
      " [0 0 0]]\n"
     ]
    }
   ],
   "source": [
    "print(labels[0] + labels[1])"
   ]
  },
  {
   "cell_type": "code",
   "execution_count": 14,
   "metadata": {},
   "outputs": [
    {
     "name": "stdout",
     "output_type": "stream",
     "text": [
      "[[1 1 1]\n",
      " [1 1 0]\n",
      " [1 1 1]]\n"
     ]
    }
   ],
   "source": [
    "test_math = maskes[..., 0]\n",
    "print(test_math)"
   ]
  },
  {
   "cell_type": "code",
   "execution_count": 15,
   "metadata": {},
   "outputs": [
    {
     "name": "stdout",
     "output_type": "stream",
     "text": [
      "[[110 215  40]\n",
      " [110 215   0]\n",
      " [110 215  40]]\n"
     ]
    }
   ],
   "source": [
    "print(test_math*[110, 215, 40])\n",
    "#må plusses inn sideslengs ikke rett inn, test under!!"
   ]
  },
  {
   "cell_type": "code",
   "execution_count": 16,
   "metadata": {},
   "outputs": [],
   "source": [
    "labels = np.zeros((3,3,3), dtype=np.uint8)"
   ]
  },
  {
   "cell_type": "code",
   "execution_count": 17,
   "metadata": {},
   "outputs": [
    {
     "name": "stdout",
     "output_type": "stream",
     "text": [
      "[[[110 215  40]\n",
      "  [110 215  40]\n",
      "  [110 215  40]]\n",
      "\n",
      " [[110 215  40]\n",
      "  [110 215  40]\n",
      "  [  0   0   0]]\n",
      "\n",
      " [[110 215  40]\n",
      "  [110 215  40]\n",
      "  [110 215  40]]]\n"
     ]
    }
   ],
   "source": [
    "mask =  test_math[..., None]* [110, 215, 40]\n",
    "print(mask)\n",
    "labels[:,:,:] = labels[:,:,:] + mask "
   ]
  },
  {
   "cell_type": "code",
   "execution_count": 18,
   "metadata": {},
   "outputs": [
    {
     "name": "stdout",
     "output_type": "stream",
     "text": [
      "[[[110 215  40]\n",
      "  [110 215  40]\n",
      "  [110 215  40]]\n",
      "\n",
      " [[110 215  40]\n",
      "  [110 215  40]\n",
      "  [  0   0   0]]\n",
      "\n",
      " [[110 215  40]\n",
      "  [110 215  40]\n",
      "  [110 215  40]]]\n"
     ]
    }
   ],
   "source": [
    "print(labels)"
   ]
  },
  {
   "cell_type": "code",
   "execution_count": null,
   "metadata": {},
   "outputs": [],
   "source": []
  }
 ],
 "metadata": {
  "kernelspec": {
   "display_name": "Python 3",
   "language": "python",
   "name": "python3"
  },
  "language_info": {
   "codemirror_mode": {
    "name": "ipython",
    "version": 3
   },
   "file_extension": ".py",
   "mimetype": "text/x-python",
   "name": "python",
   "nbconvert_exporter": "python",
   "pygments_lexer": "ipython3",
   "version": "3.7.6"
  }
 },
 "nbformat": 4,
 "nbformat_minor": 4
}
